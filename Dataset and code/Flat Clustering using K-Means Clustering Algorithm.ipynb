{
 "cells": [
  {
   "cell_type": "code",
   "execution_count": 1,
   "id": "962a77fe",
   "metadata": {},
   "outputs": [],
   "source": [
    "# Importing libraries\n",
    "import numpy as np\n",
    "from sklearn.cluster import KMeans\n",
    "import matplotlib.pyplot as plt\n",
    "import pandas as pd "
   ]
  },
  {
   "cell_type": "code",
   "execution_count": 2,
   "id": "5d8d973f",
   "metadata": {},
   "outputs": [],
   "source": [
    "# Generate random 2D points for demonstration\n",
    "data = np.random.rand(100,2)"
   ]
  },
  {
   "cell_type": "code",
   "execution_count": 3,
   "id": "29c7ba05",
   "metadata": {},
   "outputs": [
    {
     "data": {
      "text/plain": [
       "(100, 2)"
      ]
     },
     "execution_count": 3,
     "metadata": {},
     "output_type": "execute_result"
    }
   ],
   "source": [
    "# shape of dataset\n",
    "data.shape"
   ]
  },
  {
   "cell_type": "markdown",
   "id": "ed3f1100",
   "metadata": {},
   "source": [
    "- There are 100 rows and 2 column"
   ]
  },
  {
   "cell_type": "code",
   "execution_count": 4,
   "id": "c5872006",
   "metadata": {},
   "outputs": [
    {
     "data": {
      "text/plain": [
       "array([[7.41089900e-01, 9.15736711e-02],\n",
       "       [1.42871892e-01, 8.11866939e-01],\n",
       "       [9.30367310e-02, 7.76687083e-01],\n",
       "       [6.82131381e-01, 7.39871580e-01],\n",
       "       [5.52860515e-01, 5.01107436e-01],\n",
       "       [6.66657241e-01, 5.05670621e-01],\n",
       "       [7.52838653e-01, 3.03997244e-02],\n",
       "       [3.24495827e-01, 2.30584617e-01],\n",
       "       [9.84058876e-01, 6.74398963e-01],\n",
       "       [2.97406920e-01, 1.83906216e-01],\n",
       "       [2.48449932e-01, 9.17875334e-01],\n",
       "       [6.15927193e-02, 5.84298677e-01],\n",
       "       [2.67712861e-01, 7.55506307e-01],\n",
       "       [1.26720840e-01, 1.94034818e-01],\n",
       "       [2.58012036e-01, 9.17438009e-01],\n",
       "       [2.18877632e-02, 6.85964828e-01],\n",
       "       [2.48544521e-01, 9.47762734e-01],\n",
       "       [3.95964431e-01, 8.26289993e-01],\n",
       "       [4.99020039e-01, 2.06695300e-02],\n",
       "       [4.67838148e-01, 1.32448130e-02],\n",
       "       [3.09901514e-01, 4.71122609e-01],\n",
       "       [7.14897745e-01, 9.13022094e-01],\n",
       "       [1.99222366e-01, 8.45358136e-01],\n",
       "       [6.49265735e-01, 4.89351075e-01],\n",
       "       [1.65840044e-01, 7.97253789e-01],\n",
       "       [2.92032450e-02, 2.93205338e-02],\n",
       "       [3.43568579e-01, 2.84220570e-01],\n",
       "       [2.13733293e-02, 7.50890817e-01],\n",
       "       [7.36445157e-02, 5.81793774e-01],\n",
       "       [5.68908685e-01, 5.08227857e-01],\n",
       "       [8.32128028e-01, 1.33710590e-01],\n",
       "       [6.42654595e-01, 9.73639450e-01],\n",
       "       [1.29843298e-01, 5.20476705e-02],\n",
       "       [8.15159074e-02, 5.00612639e-01],\n",
       "       [3.18225982e-01, 9.38730823e-01],\n",
       "       [5.24174047e-01, 8.57327100e-01],\n",
       "       [8.47875472e-03, 2.89009831e-03],\n",
       "       [9.35149409e-01, 9.45110687e-01],\n",
       "       [6.10021183e-01, 5.26394460e-01],\n",
       "       [8.82771254e-01, 8.86509111e-01],\n",
       "       [4.74980158e-01, 7.74159367e-01],\n",
       "       [4.42853069e-02, 3.24816362e-01],\n",
       "       [9.22686181e-01, 5.34708044e-01],\n",
       "       [8.43388235e-01, 6.42869193e-01],\n",
       "       [2.43347158e-01, 4.18738822e-01],\n",
       "       [5.22506788e-01, 1.97322864e-01],\n",
       "       [5.40649060e-01, 5.87140230e-01],\n",
       "       [5.11471303e-01, 9.20209178e-01],\n",
       "       [8.91272294e-01, 8.33954638e-01],\n",
       "       [2.96721051e-01, 4.88318413e-01],\n",
       "       [8.62895584e-02, 5.92462616e-01],\n",
       "       [2.42363008e-01, 4.67000617e-01],\n",
       "       [9.17710558e-01, 6.31404511e-01],\n",
       "       [7.79012867e-01, 4.90106749e-02],\n",
       "       [2.25039337e-01, 1.02979660e-01],\n",
       "       [5.04018570e-01, 3.30103038e-01],\n",
       "       [7.45198984e-01, 8.51478026e-01],\n",
       "       [6.59697181e-02, 4.23452890e-02],\n",
       "       [1.56661768e-01, 2.81212608e-04],\n",
       "       [1.66862140e-01, 7.34205150e-01],\n",
       "       [3.27793685e-01, 6.58600873e-02],\n",
       "       [4.82390059e-01, 9.82234383e-01],\n",
       "       [4.05990055e-01, 4.59722038e-01],\n",
       "       [1.99595427e-01, 8.41507161e-01],\n",
       "       [6.65624294e-01, 7.42307970e-01],\n",
       "       [9.33755197e-01, 1.16537439e-01],\n",
       "       [7.83869451e-01, 5.42550620e-01],\n",
       "       [1.87270138e-01, 5.50371442e-01],\n",
       "       [3.73087477e-01, 6.95785288e-01],\n",
       "       [7.45467644e-01, 2.35323389e-01],\n",
       "       [9.92157013e-01, 1.16534489e-01],\n",
       "       [1.47642518e-01, 8.04443977e-01],\n",
       "       [8.27190907e-01, 6.96593666e-01],\n",
       "       [8.82967330e-01, 8.91636866e-02],\n",
       "       [1.45918308e-01, 2.84535572e-01],\n",
       "       [7.74161201e-01, 6.53522031e-01],\n",
       "       [5.28911724e-01, 7.55304843e-01],\n",
       "       [2.62983246e-01, 3.34206839e-01],\n",
       "       [6.95108512e-01, 1.31092090e-01],\n",
       "       [2.66452741e-01, 9.18715954e-01],\n",
       "       [5.29859494e-01, 7.53143256e-01],\n",
       "       [9.25262798e-01, 9.01096207e-01],\n",
       "       [7.66165629e-02, 4.13884184e-01],\n",
       "       [8.34174175e-01, 9.95960959e-01],\n",
       "       [8.21916163e-01, 9.21922209e-01],\n",
       "       [5.35162994e-01, 9.51858607e-01],\n",
       "       [7.05996786e-01, 3.37865522e-01],\n",
       "       [5.46018452e-01, 8.51559158e-01],\n",
       "       [9.19936131e-01, 3.89270293e-01],\n",
       "       [1.30081531e-01, 1.44050262e-01],\n",
       "       [3.68015605e-01, 8.83772964e-01],\n",
       "       [7.44037549e-01, 5.48102055e-01],\n",
       "       [6.40867568e-01, 9.61306248e-01],\n",
       "       [3.86653145e-01, 5.62025133e-01],\n",
       "       [8.35071545e-01, 2.44459888e-01],\n",
       "       [3.88112278e-01, 3.12924244e-01],\n",
       "       [9.51050684e-01, 5.29739107e-01],\n",
       "       [7.63823909e-01, 7.95833450e-01],\n",
       "       [6.48262527e-01, 4.19474162e-01],\n",
       "       [8.08406590e-01, 8.07980701e-01]])"
      ]
     },
     "execution_count": 4,
     "metadata": {},
     "output_type": "execute_result"
    }
   ],
   "source": [
    "data"
   ]
  },
  {
   "cell_type": "code",
   "execution_count": 5,
   "id": "df633f15",
   "metadata": {},
   "outputs": [
    {
     "name": "stderr",
     "output_type": "stream",
     "text": [
      "C:\\ProgramData\\anaconda3\\Lib\\site-packages\\sklearn\\cluster\\_kmeans.py:1412: FutureWarning: The default value of `n_init` will change from 10 to 'auto' in 1.4. Set the value of `n_init` explicitly to suppress the warning\n",
      "  super()._check_params_vs_input(X, default_n_init=10)\n",
      "C:\\ProgramData\\anaconda3\\Lib\\site-packages\\sklearn\\cluster\\_kmeans.py:1436: UserWarning: KMeans is known to have a memory leak on Windows with MKL, when there are less chunks than available threads. You can avoid it by setting the environment variable OMP_NUM_THREADS=1.\n",
      "  warnings.warn(\n"
     ]
    },
    {
     "data": {
      "text/html": [
       "<style>#sk-container-id-1 {color: black;}#sk-container-id-1 pre{padding: 0;}#sk-container-id-1 div.sk-toggleable {background-color: white;}#sk-container-id-1 label.sk-toggleable__label {cursor: pointer;display: block;width: 100%;margin-bottom: 0;padding: 0.3em;box-sizing: border-box;text-align: center;}#sk-container-id-1 label.sk-toggleable__label-arrow:before {content: \"▸\";float: left;margin-right: 0.25em;color: #696969;}#sk-container-id-1 label.sk-toggleable__label-arrow:hover:before {color: black;}#sk-container-id-1 div.sk-estimator:hover label.sk-toggleable__label-arrow:before {color: black;}#sk-container-id-1 div.sk-toggleable__content {max-height: 0;max-width: 0;overflow: hidden;text-align: left;background-color: #f0f8ff;}#sk-container-id-1 div.sk-toggleable__content pre {margin: 0.2em;color: black;border-radius: 0.25em;background-color: #f0f8ff;}#sk-container-id-1 input.sk-toggleable__control:checked~div.sk-toggleable__content {max-height: 200px;max-width: 100%;overflow: auto;}#sk-container-id-1 input.sk-toggleable__control:checked~label.sk-toggleable__label-arrow:before {content: \"▾\";}#sk-container-id-1 div.sk-estimator input.sk-toggleable__control:checked~label.sk-toggleable__label {background-color: #d4ebff;}#sk-container-id-1 div.sk-label input.sk-toggleable__control:checked~label.sk-toggleable__label {background-color: #d4ebff;}#sk-container-id-1 input.sk-hidden--visually {border: 0;clip: rect(1px 1px 1px 1px);clip: rect(1px, 1px, 1px, 1px);height: 1px;margin: -1px;overflow: hidden;padding: 0;position: absolute;width: 1px;}#sk-container-id-1 div.sk-estimator {font-family: monospace;background-color: #f0f8ff;border: 1px dotted black;border-radius: 0.25em;box-sizing: border-box;margin-bottom: 0.5em;}#sk-container-id-1 div.sk-estimator:hover {background-color: #d4ebff;}#sk-container-id-1 div.sk-parallel-item::after {content: \"\";width: 100%;border-bottom: 1px solid gray;flex-grow: 1;}#sk-container-id-1 div.sk-label:hover label.sk-toggleable__label {background-color: #d4ebff;}#sk-container-id-1 div.sk-serial::before {content: \"\";position: absolute;border-left: 1px solid gray;box-sizing: border-box;top: 0;bottom: 0;left: 50%;z-index: 0;}#sk-container-id-1 div.sk-serial {display: flex;flex-direction: column;align-items: center;background-color: white;padding-right: 0.2em;padding-left: 0.2em;position: relative;}#sk-container-id-1 div.sk-item {position: relative;z-index: 1;}#sk-container-id-1 div.sk-parallel {display: flex;align-items: stretch;justify-content: center;background-color: white;position: relative;}#sk-container-id-1 div.sk-item::before, #sk-container-id-1 div.sk-parallel-item::before {content: \"\";position: absolute;border-left: 1px solid gray;box-sizing: border-box;top: 0;bottom: 0;left: 50%;z-index: -1;}#sk-container-id-1 div.sk-parallel-item {display: flex;flex-direction: column;z-index: 1;position: relative;background-color: white;}#sk-container-id-1 div.sk-parallel-item:first-child::after {align-self: flex-end;width: 50%;}#sk-container-id-1 div.sk-parallel-item:last-child::after {align-self: flex-start;width: 50%;}#sk-container-id-1 div.sk-parallel-item:only-child::after {width: 0;}#sk-container-id-1 div.sk-dashed-wrapped {border: 1px dashed gray;margin: 0 0.4em 0.5em 0.4em;box-sizing: border-box;padding-bottom: 0.4em;background-color: white;}#sk-container-id-1 div.sk-label label {font-family: monospace;font-weight: bold;display: inline-block;line-height: 1.2em;}#sk-container-id-1 div.sk-label-container {text-align: center;}#sk-container-id-1 div.sk-container {/* jupyter's `normalize.less` sets `[hidden] { display: none; }` but bootstrap.min.css set `[hidden] { display: none !important; }` so we also need the `!important` here to be able to override the default hidden behavior on the sphinx rendered scikit-learn.org. See: https://github.com/scikit-learn/scikit-learn/issues/21755 */display: inline-block !important;position: relative;}#sk-container-id-1 div.sk-text-repr-fallback {display: none;}</style><div id=\"sk-container-id-1\" class=\"sk-top-container\"><div class=\"sk-text-repr-fallback\"><pre>KMeans(n_clusters=2, random_state=42)</pre><b>In a Jupyter environment, please rerun this cell to show the HTML representation or trust the notebook. <br />On GitHub, the HTML representation is unable to render, please try loading this page with nbviewer.org.</b></div><div class=\"sk-container\" hidden><div class=\"sk-item\"><div class=\"sk-estimator sk-toggleable\"><input class=\"sk-toggleable__control sk-hidden--visually\" id=\"sk-estimator-id-1\" type=\"checkbox\" checked><label for=\"sk-estimator-id-1\" class=\"sk-toggleable__label sk-toggleable__label-arrow\">KMeans</label><div class=\"sk-toggleable__content\"><pre>KMeans(n_clusters=2, random_state=42)</pre></div></div></div></div></div>"
      ],
      "text/plain": [
       "KMeans(n_clusters=2, random_state=42)"
      ]
     },
     "execution_count": 5,
     "metadata": {},
     "output_type": "execute_result"
    }
   ],
   "source": [
    "kmeans = KMeans(n_clusters=2,random_state=42)\n",
    "kmeans.fit(data)"
   ]
  },
  {
   "cell_type": "code",
   "execution_count": 6,
   "id": "fa1d8b34",
   "metadata": {},
   "outputs": [],
   "source": [
    "centroid = kmeans.cluster_centers_\n",
    "labels = kmeans.labels_\n"
   ]
  },
  {
   "cell_type": "code",
   "execution_count": 7,
   "id": "25c1059a",
   "metadata": {},
   "outputs": [
    {
     "data": {
      "text/plain": [
       "array([1, 0, 0, 0, 0, 0, 1, 1, 0, 1, 0, 1, 0, 1, 0, 0, 0, 0, 1, 1, 1, 0,\n",
       "       0, 0, 0, 1, 1, 0, 1, 0, 1, 0, 1, 1, 0, 0, 1, 0, 0, 0, 0, 1, 0, 0,\n",
       "       1, 1, 0, 0, 0, 1, 1, 1, 0, 1, 1, 1, 0, 1, 1, 0, 1, 0, 1, 0, 0, 1,\n",
       "       0, 1, 0, 1, 1, 0, 0, 1, 1, 0, 0, 1, 1, 0, 0, 0, 1, 0, 0, 0, 1, 0,\n",
       "       0, 1, 0, 0, 0, 0, 1, 1, 0, 0, 1, 0])"
      ]
     },
     "execution_count": 7,
     "metadata": {},
     "output_type": "execute_result"
    }
   ],
   "source": [
    "labels"
   ]
  },
  {
   "cell_type": "code",
   "execution_count": 8,
   "id": "063e1e3a",
   "metadata": {},
   "outputs": [
    {
     "data": {
      "image/png": "[encoded data removed]",
      "text/plain": [
       "<Figure size 640x480 with 1 Axes>"
      ]
     },
     "metadata": {},
     "output_type": "display_data"
    }
   ],
   "source": [
    "colors = [\"g.\", \"r.\"]\n",
    "for i in range(len(data)):\n",
    "    plt.plot(data[i][0], data[i][1], colors[labels[i]], markersize=10)\n",
    "\n",
    "plt.scatter(centroid[:, 0], centroid[:, 1], marker=\"x\", linewidths=5, s=150, zorder=10)\n",
    "\n",
    "# Convert NumPy array to Pandas DataFrame\n",
    "df = pd.DataFrame(data, columns=['X', 'Y'])\n",
    "df['Label'] = labels\n",
    "\n",
    "# Export DataFrame to CSV with coordinates and labels\n",
    "df.to_csv('coordinates_with_labels.csv', index=False)\n",
    "\n",
    "plt.savefig('cluster_plot.png')\n",
    "plt.show()"
   ]
  },
  {
   "cell_type": "code",
   "execution_count": 9,
   "id": "36428079",
   "metadata": {},
   "outputs": [
    {
     "name": "stdout",
     "output_type": "stream",
     "text": [
      "input_data for testing model [[0.86320386 0.44022361]\n",
      " [0.3076229  0.7753791 ]\n",
      " [0.56598163 0.66831945]\n",
      " [0.74356132 0.21351112]]\n",
      "New Data Predictions: [0 0 0 1]\n"
     ]
    }
   ],
   "source": [
    "new_data = np.random.rand(4,2)\n",
    "print('input_data for testing model',new_data)\n",
    "new_labels = kmeans.predict(new_data)\n",
    "print(\"New Data Predictions:\", new_labels)"
   ]
  },
  {
   "cell_type": "code",
   "execution_count": null,
   "id": "78a3413c",
   "metadata": {},
   "outputs": [],
   "source": []
  }
 ],
 "metadata": {
  "kernelspec": {
   "display_name": "Python 3 (ipykernel)",
   "language": "python",
   "name": "python3"
  },
  "language_info": {
   "codemirror_mode": {
    "name": "ipython",
    "version": 3
   },
   "file_extension": ".py",
   "mimetype": "text/x-python",
   "name": "python",
   "nbconvert_exporter": "python",
   "pygments_lexer": "ipython3",
   "version": "3.11.5"
  }
 },
 "nbformat": 4,
 "nbformat_minor": 5
}
